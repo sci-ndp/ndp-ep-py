{
 "cells": [
  {
   "cell_type": "markdown",
   "metadata": {
    "colab_type": "text",
    "id": "view-in-github"
   },
   "source": [
    "[![Open In Colab](https://colab.research.google.com/assets/colab-badge.svg)](https://colab.research.google.com/github/sci-ndp/ndp-ep-py/blob/main/docs/source/tutorials/getting_started.ipynb)\n",
    "[![Binder](https://mybinder.org/badge_logo.svg)](https://mybinder.org/v2/gh/sci-ndp/ndp-ep-py/main?filepath=docs%2Fsource%2Ftutorials%2Fgetting_started.ipynb)"
   ]
  },
  {
   "cell_type": "markdown",
   "metadata": {},
   "source": [
    "# Getting Started with NDP EP Python Client\n",
    "\n",
    "Welcome to the interactive tutorial for the NDP EP Python client library!\n",
    "\n",
    "## What is NDP EP?\n",
    "\n",
    "The National Data Platform (NDP) EP allows you to:\n",
    "- 🏢 Manage organizations and datasets\n",
    "- 📊 Register data resources (URLs, S3, Kafka topics)\n",
    "- 🔍 Search and discover datasets\n",
    "- 📈 Monitor system health"
   ]
  },
  {
   "cell_type": "code",
   "execution_count": null,
   "metadata": {},
   "outputs": [
    {
     "name": "stdout",
     "output_type": "stream",
     "text": [
      "Requirement already satisfied: ndp-ep in c:\\users\\usuario\\onedrive\\documentos\\code\\ndp-ep-py\\venv\\lib\\site-packages (0.1.0)\n",
      "Requirement already satisfied: requests>=2.25.0 in c:\\users\\usuario\\onedrive\\documentos\\code\\ndp-ep-py\\venv\\lib\\site-packages (from ndp-ep) (2.32.4)\n",
      "Requirement already satisfied: urllib3>=1.26.0 in c:\\users\\usuario\\onedrive\\documentos\\code\\ndp-ep-py\\venv\\lib\\site-packages (from ndp-ep) (2.5.0)\n",
      "Requirement already satisfied: charset_normalizer<4,>=2 in c:\\users\\usuario\\onedrive\\documentos\\code\\ndp-ep-py\\venv\\lib\\site-packages (from requests>=2.25.0->ndp-ep) (3.4.2)\n",
      "Requirement already satisfied: idna<4,>=2.5 in c:\\users\\usuario\\onedrive\\documentos\\code\\ndp-ep-py\\venv\\lib\\site-packages (from requests>=2.25.0->ndp-ep) (3.10)\n",
      "Requirement already satisfied: certifi>=2017.4.17 in c:\\users\\usuario\\onedrive\\documentos\\code\\ndp-ep-py\\venv\\lib\\site-packages (from requests>=2.25.0->ndp-ep) (2025.6.15)\n",
      "✅ Libraries installed successfully!\n"
     ]
    }
   ],
   "source": [
    "# Install the ndp-ep library\n",
    "!pip install ndp-ep\n",
    "\n",
    "# Import required libraries\n",
    "import json\n",
    "from pprint import pprint\n",
    "from ndp_ep import APIClient\n",
    "\n",
    "print(\"✅ Libraries installed successfully!\")"
   ]
  },
  {
   "cell_type": "markdown",
   "metadata": {},
   "source": [
    "## 1. Setting Up the Client\n",
    "\n",
    "**Authentication Options:**\n",
    "1. **API Token** (Recommended): Get from https://nationaldataplatform.org/\n",
    "2. **Username/Password**: Use your NDP credentials\n",
    "3. **No Auth**: Limited to public endpoints"
   ]
  },
  {
   "cell_type": "code",
   "execution_count": 12,
   "metadata": {},
   "outputs": [
    {
     "name": "stdout",
     "output_type": "stream",
     "text": [
      "✅ Client initialized successfully!\n",
      "🌐 Connected to: http://localhost:8003\n"
     ]
    }
   ],
   "source": [
    "# Configuration\n",
    "API_BASE_URL = \"http://localhost:8003\"\n",
    "\n",
    "# Option 1: Using API token (uncomment to use)\n",
    "# API_TOKEN = \"your-api-token-here\"\n",
    "# client = APIClient(base_url=API_BASE_URL, token=API_TOKEN)\n",
    "\n",
    "# Option 2: Using username/password (uncomment to use)\n",
    "# USERNAME = \"your-username\"\n",
    "# PASSWORD = \"your-password\"\n",
    "# client = APIClient(base_url=API_BASE_URL, username=USERNAME, password=PASSWORD)\n",
    "\n",
    "# Option 3: Demo mode (limited functionality)\n",
    "try:\n",
    "    client = APIClient(base_url=API_BASE_URL)\n",
    "    print(\"✅ Client initialized successfully!\")\n",
    "    print(f\"🌐 Connected to: {API_BASE_URL}\")\n",
    "except Exception as e:\n",
    "    print(f\"❌ Failed to initialize client: {e}\")\n",
    "    print(\"💡 Tip: Make sure the API endpoint is accessible\")"
   ]
  },
  {
   "cell_type": "markdown",
   "metadata": {},
   "source": [
    "## 2. Exploring Organizations\n",
    "\n",
    "Organizations are containers for datasets and resources."
   ]
  },
  {
   "cell_type": "code",
   "execution_count": 13,
   "metadata": {},
   "outputs": [
    {
     "name": "stdout",
     "output_type": "stream",
     "text": [
      "🏢 Listing Organizations...\n",
      "\n",
      "📋 Server 'local': 5 organizations\n",
      "   1. research_tutorial_20250628_230121\n",
      "   2. research_tutorial_20250630_112306\n",
      "   3. test_org\n",
      "   ... and 2 more\n",
      "\n",
      "📋 Server 'global': 46 organizations\n",
      "   1. __\n",
      "   2. archives-of-the-california-wildfire-forest-resilience-task-force\n",
      "   3. burnpro3d\n",
      "   ... and 43 more\n",
      "   ❌ Error with pre_ckan: Error listing organizations: Pre-CKAN is disabled and cannot be used.\n"
     ]
    }
   ],
   "source": [
    "# List organizations from different servers\n",
    "servers = [\"local\", \"global\", \"pre_ckan\"]\n",
    "\n",
    "print(\"🏢 Listing Organizations...\")\n",
    "for server in servers:\n",
    "    try:\n",
    "        orgs = client.list_organizations(server=server)\n",
    "        print(f\"\\n📋 Server '{server}': {len(orgs)} organizations\")\n",
    "        \n",
    "        # Show first few organizations\n",
    "        for i, org in enumerate(orgs[:3]):\n",
    "            print(f\"   {i+1}. {org}\")\n",
    "        \n",
    "        if len(orgs) > 3:\n",
    "            print(f\"   ... and {len(orgs) - 3} more\")\n",
    "            \n",
    "    except Exception as e:\n",
    "        print(f\"   ❌ Error with {server}: {e}\")"
   ]
  },
  {
   "cell_type": "markdown",
   "metadata": {},
   "source": [
    "## 3. Searching for Datasets\n",
    "\n",
    "Search is one of the most powerful features."
   ]
  },
  {
   "cell_type": "code",
   "execution_count": 14,
   "metadata": {},
   "outputs": [
    {
     "name": "stdout",
     "output_type": "stream",
     "text": [
      "🔍 Performing Searches...\n",
      "\n",
      "🔎 Search for ['climate']: 57 results\n",
      "   📄 Example: Climate and Tectonic Controls on Bedrock Hillslopes, CA 2019\n",
      "   🏢 Organization: Unknown\n",
      "   📊 Resources: 2\n",
      "\n",
      "🔎 Search for ['weather', 'temperature']: 9 results\n",
      "   📄 Example: High-accuracy gas, pressure, humidity and temperature sensors: bme680\n",
      "   🏢 Organization: Unknown\n",
      "   📊 Resources: 1\n",
      "\n",
      "🔎 Search for ['data']: 1000 results\n",
      "   📄 Example: SANDAG Data\n",
      "   🏢 Organization: Unknown\n",
      "   📊 Resources: 1\n",
      "\n",
      "🔎 Search for ['sensor']: 56 results\n",
      "   📄 Example: Rainfall Sensor: rg-15\n",
      "   🏢 Organization: Unknown\n",
      "   📊 Resources: 1\n",
      "\n",
      "✅ Search exploration completed!\n"
     ]
    }
   ],
   "source": [
    "# Simple search examples\n",
    "search_terms = [\n",
    "    [\"climate\"],\n",
    "    [\"weather\", \"temperature\"],\n",
    "    [\"data\"],\n",
    "    [\"sensor\"]\n",
    "]\n",
    "\n",
    "print(\"🔍 Performing Searches...\")\n",
    "for terms in search_terms:\n",
    "    try:\n",
    "        results = client.search_datasets(terms=terms, server=\"global\")\n",
    "        print(f\"\\n🔎 Search for {terms}: {len(results)} results\")\n",
    "        \n",
    "        # Show first result details\n",
    "        if results:\n",
    "            first = results[0]\n",
    "            print(f\"   📄 Example: {first.get('title', 'No title')}\")\n",
    "            print(f\"   🏢 Organization: {first.get('organization', {}).get('title', 'Unknown')}\")\n",
    "            print(f\"   📊 Resources: {len(first.get('resources', []))}\")\n",
    "            \n",
    "    except Exception as e:\n",
    "        print(f\"   ❌ Search failed for {terms}: {e}\")\n",
    "\n",
    "print(\"\\n✅ Search exploration completed!\")"
   ]
  },
  {
   "cell_type": "markdown",
   "metadata": {},
   "source": [
    "## 4. Advanced Search\n",
    "\n",
    "Use filters and advanced queries for more precise results."
   ]
  },
  {
   "cell_type": "code",
   "execution_count": 15,
   "metadata": {},
   "outputs": [
    {
     "name": "stdout",
     "output_type": "stream",
     "text": [
      "🔍 Advanced Search Examples...\n",
      "\n",
      "🔎 Advanced Search #1:\n",
      "   Query: {'search_term': 'climate,weather', 'server': 'global'}\n",
      "   Results: 19 datasets found\n",
      "      1. Public View - Interagency Remote Automatic Weather...\n",
      "      2. NOAA/National Weather Service (NWS) WATCHES, WARNI...\n",
      "\n",
      "🔎 Advanced Search #2:\n",
      "   Query: {'dataset_name': 'sensor', 'server': 'global'}\n",
      "   Results: 0 datasets found\n",
      "\n",
      "🔎 Advanced Search #3:\n",
      "   Query: {'search_term': 'data', 'filter_list': ['format:CSV'], 'server': 'global'}\n",
      "   Results: 0 datasets found\n",
      "\n",
      "✅ Advanced search completed!\n"
     ]
    }
   ],
   "source": [
    "print(\"🔍 Advanced Search Examples...\")\n",
    "\n",
    "# Advanced search with filters\n",
    "advanced_searches = [\n",
    "    {\n",
    "        \"search_term\": \"climate,weather\",\n",
    "        \"server\": \"global\"\n",
    "    },\n",
    "    {\n",
    "        \"dataset_name\": \"sensor\", \n",
    "        \"server\": \"global\"\n",
    "    },\n",
    "    {\n",
    "        \"search_term\": \"data\",\n",
    "        \"filter_list\": [\"format:CSV\"],\n",
    "        \"server\": \"global\"\n",
    "    }\n",
    "]\n",
    "\n",
    "for i, search_data in enumerate(advanced_searches, 1):\n",
    "    try:\n",
    "        print(f\"\\n🔎 Advanced Search #{i}:\")\n",
    "        print(f\"   Query: {search_data}\")\n",
    "        \n",
    "        results = client.advanced_search(search_data)\n",
    "        print(f\"   Results: {len(results)} datasets found\")\n",
    "        \n",
    "        # Show sample results\n",
    "        for j, result in enumerate(results[:2]):\n",
    "            title = result.get('title', result.get('name', 'Untitled'))[:50]\n",
    "            print(f\"      {j+1}. {title}...\")\n",
    "            \n",
    "    except Exception as e:\n",
    "        print(f\"   ❌ Advanced search failed: {e}\")\n",
    "\n",
    "print(\"\\n✅ Advanced search completed!\")"
   ]
  },
  {
   "cell_type": "markdown",
   "metadata": {},
   "source": [
    "## 5. System Information\n",
    "\n",
    "Check system health and get connection details."
   ]
  },
  {
   "cell_type": "code",
   "execution_count": 16,
   "metadata": {},
   "outputs": [
    {
     "name": "stdout",
     "output_type": "stream",
     "text": [
      "🏥 System Information...\n",
      "\n",
      "✅ System Status:\n",
      "{'ckan_is_active_global': True,\n",
      " 'ckan_is_active_local': True,\n",
      " 'ckan_local_enabled': True,\n",
      " 'keycloak_is_active': True}\n",
      "\n",
      "📊 System Metrics:\n",
      "{'cpu': '2.1%',\n",
      " 'disk': '1.7%',\n",
      " 'memory': '13.8%',\n",
      " 'public_ip': '161.111.139.206',\n",
      " 'services': {'ckan_is_active_global': True,\n",
      "              'ckan_is_active_local': True,\n",
      "              'ckan_local_enabled': True,\n",
      "              'keycloak_is_active': True}}\n",
      "\n",
      "📡 Kafka Details:\n",
      "{'kafka_connection': True,\n",
      " 'kafka_host': '155.101.6.194',\n",
      " 'kafka_port': 9092,\n",
      " 'kafka_prefix': 'data_stream_',\n",
      " 'max_streams': 10}\n",
      "\n",
      "💡 Note: Some endpoints require authentication\n"
     ]
    }
   ],
   "source": [
    "print(\"🏥 System Information...\")\n",
    "\n",
    "# Check system status\n",
    "try:\n",
    "    status = client.get_system_status()\n",
    "    print(\"\\n✅ System Status:\")\n",
    "    pprint(status)\n",
    "except Exception as e:\n",
    "    print(f\"\\n⚠️ System status: {e}\")\n",
    "\n",
    "# Get system metrics\n",
    "try:\n",
    "    metrics = client.get_system_metrics()\n",
    "    print(\"\\n📊 System Metrics:\")\n",
    "    pprint(metrics)\n",
    "except Exception as e:\n",
    "    print(f\"\\n⚠️ System metrics: {e}\")\n",
    "\n",
    "# Get Kafka details\n",
    "try:\n",
    "    kafka_details = client.get_kafka_details()\n",
    "    print(\"\\n📡 Kafka Details:\")\n",
    "    pprint(kafka_details)\n",
    "except Exception as e:\n",
    "    print(f\"\\n⚠️ Kafka details: {e}\")\n",
    "\n",
    "print(\"\\n💡 Note: Some endpoints require authentication\")"
   ]
  },
  {
   "cell_type": "markdown",
   "metadata": {},
   "source": [
    "## 6. Creating Resources (Requires Authentication)\n",
    "\n",
    "**⚠️ Note**: The following examples require valid credentials.\n",
    "Without authentication, you'll see error messages (which is expected)."
   ]
  },
  {
   "cell_type": "code",
   "execution_count": 18,
   "metadata": {},
   "outputs": [
    {
     "name": "stdout",
     "output_type": "stream",
     "text": [
      "🔐 Please enter your API token:\n",
      "(The token will not be displayed for security)\n",
      "✅ Client configured with API token successfully!\n",
      "🌐 Connected to: http://localhost:8003\n"
     ]
    }
   ],
   "source": [
    "# Authentication setup - API Token input\n",
    "import getpass\n",
    "\n",
    "# Secure token input (won't be visible on screen)\n",
    "print(\"🔐 Please enter your API token:\")\n",
    "print(\"(The token will not be displayed for security)\")\n",
    "API_TOKEN = getpass.getpass(\"API Token: \")\n",
    "\n",
    "# Configure authenticated client\n",
    "try:\n",
    "    client = APIClient(base_url=API_BASE_URL, token=API_TOKEN)\n",
    "    print(\"✅ Client configured with API token successfully!\")\n",
    "    print(f\"🌐 Connected to: {API_BASE_URL}\")\n",
    "except Exception as e:\n",
    "    print(f\"❌ Failed to configure client: {e}\")\n",
    "    print(\"💡 Please check your token and try again\")"
   ]
  },
  {
   "cell_type": "code",
   "execution_count": 19,
   "metadata": {},
   "outputs": [
    {
     "name": "stdout",
     "output_type": "stream",
     "text": [
      "🏢 Creating Organization (requires auth)...\n",
      "📝 Data: {'name': 'demo_org_1751968397', 'title': 'Demo Organization', 'description': 'A demonstration organization'}\n",
      "\n",
      "✅ Organization created: {'id': '382fdb42-6677-4500-b6ce-df5ecb866455', 'message': 'Organization created successfully'}\n"
     ]
    }
   ],
   "source": [
    "import time\n",
    "\n",
    "# Example organization data\n",
    "org_data = {\n",
    "    \"name\": f\"demo_org_{int(time.time())}\",  # Unique name\n",
    "    \"title\": \"Demo Organization\",\n",
    "    \"description\": \"A demonstration organization\"\n",
    "}\n",
    "\n",
    "print(\"🏢 Creating Organization (requires auth)...\")\n",
    "print(f\"📝 Data: {org_data}\")\n",
    "\n",
    "try:\n",
    "    result = client.register_organization(org_data)\n",
    "    print(f\"\\n✅ Organization created: {result}\")\n",
    "    created_org = org_data[\"name\"]\n",
    "except Exception as e:\n",
    "    print(f\"\\n❌ Expected error (no auth): {e}\")\n",
    "    created_org = \"demo_org\"  # Fallback for examples"
   ]
  },
  {
   "cell_type": "code",
   "execution_count": 20,
   "metadata": {},
   "outputs": [
    {
     "name": "stdout",
     "output_type": "stream",
     "text": [
      "🌐 Registering URL Resource (requires auth)...\n",
      "📝 Data: {'resource_name': 'climate_data_1751968410', 'resource_title': 'Climate Data CSV', 'owner_org': 'demo_org_1751968397', 'resource_url': 'https://example.com/climate.csv', 'file_type': 'CSV', 'notes': 'Monthly climate data'}\n",
      "\n",
      "✅ URL resource created: {'id': 'f5869b5e-4ed2-48ca-9c0e-624ed0cee0a8'}\n"
     ]
    }
   ],
   "source": [
    "# Example URL resource\n",
    "url_resource = {\n",
    "    \"resource_name\": f\"climate_data_{int(time.time())}\",\n",
    "    \"resource_title\": \"Climate Data CSV\",\n",
    "    \"owner_org\": created_org,\n",
    "    \"resource_url\": \"https://example.com/climate.csv\",\n",
    "    \"file_type\": \"CSV\",\n",
    "    \"notes\": \"Monthly climate data\"\n",
    "}\n",
    "\n",
    "print(\"🌐 Registering URL Resource (requires auth)...\")\n",
    "print(f\"📝 Data: {url_resource}\")\n",
    "\n",
    "try:\n",
    "    result = client.register_url(url_resource)\n",
    "    print(f\"\\n✅ URL resource created: {result}\")\n",
    "except Exception as e:\n",
    "    print(f\"\\n❌ Expected error (no auth): {e}\")"
   ]
  },
  {
   "cell_type": "code",
   "execution_count": 21,
   "metadata": {},
   "outputs": [
    {
     "name": "stdout",
     "output_type": "stream",
     "text": [
      "☁️ Registering S3 Resource (requires auth)...\n",
      "📝 Data: {'resource_name': 's3_dataset_1751968425', 'resource_title': 'S3 Dataset', 'owner_org': 'demo_org_1751968397', 'resource_s3': 's3://my-bucket/dataset.parquet', 'notes': 'Large dataset in S3'}\n",
      "\n",
      "✅ S3 resource created: {'id': 'ad410b3f-08b2-422b-b16d-fc861a04f88b'}\n"
     ]
    }
   ],
   "source": [
    "# Example S3 resource\n",
    "s3_resource = {\n",
    "    \"resource_name\": f\"s3_dataset_{int(time.time())}\",\n",
    "    \"resource_title\": \"S3 Dataset\",\n",
    "    \"owner_org\": created_org,\n",
    "    \"resource_s3\": \"s3://my-bucket/dataset.parquet\",\n",
    "    \"notes\": \"Large dataset in S3\"\n",
    "}\n",
    "\n",
    "print(\"☁️ Registering S3 Resource (requires auth)...\")\n",
    "print(f\"📝 Data: {s3_resource}\")\n",
    "\n",
    "try:\n",
    "    result = client.register_s3_link(s3_resource)\n",
    "    print(f\"\\n✅ S3 resource created: {result}\")\n",
    "except Exception as e:\n",
    "    print(f\"\\n❌ Expected error (no auth): {e}\")"
   ]
  },
  {
   "cell_type": "markdown",
   "metadata": {},
   "source": [
    "## 7. Error Handling Best Practices"
   ]
  },
  {
   "cell_type": "code",
   "execution_count": 22,
   "metadata": {},
   "outputs": [
    {
     "name": "stdout",
     "output_type": "stream",
     "text": [
      "🛡️ Demonstrating Safe API Calls...\n",
      "🔄 Attempting: listing organizations...\n",
      "✅ Success: listing organizations\n",
      "🔄 Attempting: searching datasets...\n",
      "✅ Success: searching datasets\n",
      "\n",
      "✅ Safe API call demonstrations completed!\n"
     ]
    }
   ],
   "source": [
    "def safe_api_call(func, *args, description=\"API call\", **kwargs):\n",
    "    \"\"\"\n",
    "    Safely execute an API call with comprehensive error handling.\n",
    "    \"\"\"\n",
    "    try:\n",
    "        print(f\"🔄 Attempting: {description}...\")\n",
    "        result = func(*args, **kwargs)\n",
    "        print(f\"✅ Success: {description}\")\n",
    "        return result\n",
    "    except ValueError as e:\n",
    "        print(f\"❌ API Error in {description}: {e}\")\n",
    "        return None\n",
    "    except ConnectionError as e:\n",
    "        print(f\"🌐 Connection Error in {description}: {e}\")\n",
    "        return None\n",
    "    except Exception as e:\n",
    "        print(f\"⚠️ Unexpected error in {description}: {e}\")\n",
    "        return None\n",
    "\n",
    "# Examples of safe API calls\n",
    "print(\"🛡️ Demonstrating Safe API Calls...\")\n",
    "\n",
    "# Safe organization listing\n",
    "orgs = safe_api_call(\n",
    "    client.list_organizations,\n",
    "    server=\"global\",\n",
    "    description=\"listing organizations\"\n",
    ")\n",
    "\n",
    "# Safe search\n",
    "results = safe_api_call(\n",
    "    client.search_datasets,\n",
    "    [\"test\"],\n",
    "    server=\"global\",\n",
    "    description=\"searching datasets\"\n",
    ")\n",
    "\n",
    "print(\"\\n✅ Safe API call demonstrations completed!\")"
   ]
  }
 ],
 "metadata": {
  "colab": {
   "authorship_tag": "ABX9TyMYJKFHGnJPwOUKztFYQX3h",
   "include_colab_link": true,
   "provenance": []
  },
  "kernelspec": {
   "display_name": "venv",
   "language": "python",
   "name": "python3"
  },
  "language_info": {
   "codemirror_mode": {
    "name": "ipython",
    "version": 3
   },
   "file_extension": ".py",
   "mimetype": "text/x-python",
   "name": "python",
   "nbconvert_exporter": "python",
   "pygments_lexer": "ipython3",
   "version": "3.13.2"
  }
 },
 "nbformat": 4,
 "nbformat_minor": 4
}

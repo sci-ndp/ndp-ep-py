{
 "cells": [
  {
   "cell_type": "markdown",
   "metadata": {
    "colab_type": "text",
    "id": "view-in-github"
   },
   "source": [
    "[![Open In Colab](https://colab.research.google.com/assets/colab-badge.svg)](https://colab.research.google.com/github/sci-ndp/ndp-ep-py/blob/main/docs/source/tutorials/bulk_resource_management.ipynb)\n",
    "[![Binder](https://mybinder.org/badge_logo.svg)](https://mybinder.org/v2/gh/sci-ndp/ndp-ep-py/main?filepath=docs%2Fsource%2Ftutorials%2Fbulk_resource_management.ipynb)"
   ]
  },
  {
   "cell_type": "markdown",
   "metadata": {},
   "source": [
    "# Bulk Resource Management Tutorial\n",
    "\n",
    "Welcome to the advanced tutorial on bulk resource management with the NDP EP Python client!\n",
    "\n",
    "## 🎯 What You'll Learn\n",
    "\n",
    "This tutorial demonstrates real-world scenarios for managing large numbers of resources:\n",
    "\n",
    "- **🏢 Organization Management**: Create and manage organizations for bulk operations\n",
    "- **📊 Bulk Service Registration**: Register 100 services efficiently\n",
    "- **📁 Bulk Dataset Registration**: Register 100 datasets with proper organization\n",
    "- **📈 Progress Monitoring**: Track operations and handle errors gracefully\n",
    "- **✅ Verification**: Confirm all resources were created successfully\n",
    "- **🧹 Complete Cleanup**: Remove all created resources to leave system clean\n",
    "\n",
    "## 🔧 Use Cases\n",
    "\n",
    "This tutorial is perfect for:\n",
    "- **Data Migration**: Moving large datasets between systems\n",
    "- **System Setup**: Initial configuration with multiple resources\n",
    "- **Testing Environments**: Creating test data for development\n",
    "- **Batch Operations**: Learning patterns for bulk data management\n",
    "\n",
    "## ⚠️ Prerequisites\n",
    "\n",
    "- Valid NDP EP API credentials (token)\n",
    "- Write permissions on the target API instance\n",
    "- Basic understanding of the NDP EP API (complete the getting started tutorial first)\n",
    "\n",
    "## 🛡️ Safety Note\n",
    "\n",
    "This tutorial creates and then deletes 200+ resources. It's designed to be safe and self-contained, but always test on non-production systems first."
   ]
  },
  {
   "cell_type": "code",
   "execution_count": 1,
   "metadata": {},
   "outputs": [
    {
     "name": "stdout",
     "output_type": "stream",
     "text": [
      "Requirement already satisfied: ndp-ep in c:\\users\\usuario\\onedrive\\documentos\\code\\ndp-ep-py\\venv\\lib\\site-packages (0.1.0)\n",
      "Requirement already satisfied: requests>=2.25.0 in c:\\users\\usuario\\onedrive\\documentos\\code\\ndp-ep-py\\venv\\lib\\site-packages (from ndp-ep) (2.32.4)\n",
      "Requirement already satisfied: urllib3>=1.26.0 in c:\\users\\usuario\\onedrive\\documentos\\code\\ndp-ep-py\\venv\\lib\\site-packages (from ndp-ep) (2.5.0)\n",
      "Requirement already satisfied: charset_normalizer<4,>=2 in c:\\users\\usuario\\onedrive\\documentos\\code\\ndp-ep-py\\venv\\lib\\site-packages (from requests>=2.25.0->ndp-ep) (3.4.2)\n",
      "Requirement already satisfied: idna<4,>=2.5 in c:\\users\\usuario\\onedrive\\documentos\\code\\ndp-ep-py\\venv\\lib\\site-packages (from requests>=2.25.0->ndp-ep) (3.10)\n",
      "Requirement already satisfied: certifi>=2017.4.17 in c:\\users\\usuario\\onedrive\\documentos\\code\\ndp-ep-py\\venv\\lib\\site-packages (from requests>=2.25.0->ndp-ep) (2025.6.15)\n",
      "✅ Libraries installed and imported successfully!\n",
      "📚 Ready to start bulk resource management tutorial\n"
     ]
    }
   ],
   "source": [
    "# Install required libraries\n",
    "!pip install ndp-ep\n",
    "\n",
    "# Import required modules\n",
    "import time\n",
    "import getpass\n",
    "from typing import List, Dict, Any, Optional\n",
    "from ndp_ep import APIClient\n",
    "\n",
    "print(\"✅ Libraries installed and imported successfully!\")\n",
    "print(\"📚 Ready to start bulk resource management tutorial\")"
   ]
  },
  {
   "cell_type": "markdown",
   "metadata": {},
   "source": [
    "## 1. 🔐 Secure Authentication Setup\n",
    "\n",
    "First, let's configure the client with your credentials. Your token will be hidden during input for security."
   ]
  },
  {
   "cell_type": "code",
   "execution_count": 2,
   "metadata": {},
   "outputs": [
    {
     "name": "stdout",
     "output_type": "stream",
     "text": [
      "🔧 API Configuration\n",
      "==============================\n",
      "📡 API URL: http://localhost:8003\n",
      "\n",
      "🔐 Authentication\n",
      "Please enter your API token (it will be hidden):\n",
      "✅ Credentials configured securely\n"
     ]
    }
   ],
   "source": [
    "# Interactive API configuration\n",
    "print(\"🔧 API Configuration\")\n",
    "print(\"=\" * 30)\n",
    "\n",
    "# Get API base URL\n",
    "api_url = input(\"Enter API base URL [http://localhost:8003]: \").strip()\n",
    "if not api_url:\n",
    "    api_url = \"http://localhost:8003\"\n",
    "\n",
    "print(f\"📡 API URL: {api_url}\")\n",
    "\n",
    "# Get API token securely\n",
    "print(\"\\n🔐 Authentication\")\n",
    "print(\"Please enter your API token (it will be hidden):\")\n",
    "api_token = getpass.getpass(\"API Token: \")\n",
    "\n",
    "if not api_token.strip():\n",
    "    raise ValueError(\"❌ API token is required for this tutorial\")\n",
    "\n",
    "print(\"✅ Credentials configured securely\")"
   ]
  },
  {
   "cell_type": "code",
   "execution_count": 3,
   "metadata": {},
   "outputs": [
    {
     "name": "stdout",
     "output_type": "stream",
     "text": [
      "🚀 Initializing API Client...\n",
      "✅ API client initialized successfully\n",
      "🌐 Connected to: http://localhost:8003\n",
      "🔑 Authentication verified\n"
     ]
    }
   ],
   "source": [
    "# Initialize and test the API client\n",
    "print(\"🚀 Initializing API Client...\")\n",
    "\n",
    "try:\n",
    "    client = APIClient(base_url=api_url, token=api_token)\n",
    "    \n",
    "    # Test connection\n",
    "    system_status = client.get_system_status()\n",
    "    print(\"✅ API client initialized successfully\")\n",
    "    print(f\"🌐 Connected to: {api_url}\")\n",
    "    print(\"🔑 Authentication verified\")\n",
    "    \n",
    "except Exception as e:\n",
    "    print(f\"❌ Failed to initialize client: {e}\")\n",
    "    print(\"💡 Please check your credentials and API URL\")\n",
    "    raise"
   ]
  },
  {
   "cell_type": "markdown",
   "metadata": {},
   "source": [
    "## 2. 📋 Tutorial Configuration\n",
    "\n",
    "Let's set up the parameters for our bulk operations."
   ]
  },
  {
   "cell_type": "code",
   "execution_count": 4,
   "metadata": {},
   "outputs": [
    {
     "name": "stdout",
     "output_type": "stream",
     "text": [
      "📊 Bulk Operation Configuration\n",
      "===================================\n",
      "Services to create: 100\n",
      "Datasets to create: 100\n",
      "Services organization: services\n",
      "Datasets organization: test_services\n",
      "Name prefix: test_\n",
      "Total resources: 200\n"
     ]
    }
   ],
   "source": [
    "# Configuration for bulk operations\n",
    "SERVICES_COUNT = 100\n",
    "DATASETS_COUNT = 100\n",
    "SERVICES_ORG = \"services\"  # Default org for services\n",
    "DATASETS_ORG = \"test_services\"  # Custom org for datasets\n",
    "PREFIX = \"test_\"  # Prefix for all resource names\n",
    "\n",
    "print(\"📊 Bulk Operation Configuration\")\n",
    "print(\"=\" * 35)\n",
    "print(f\"Services to create: {SERVICES_COUNT}\")\n",
    "print(f\"Datasets to create: {DATASETS_COUNT}\")\n",
    "print(f\"Services organization: {SERVICES_ORG}\")\n",
    "print(f\"Datasets organization: {DATASETS_ORG}\")\n",
    "print(f\"Name prefix: {PREFIX}\")\n",
    "print(f\"Total resources: {SERVICES_COUNT + DATASETS_COUNT}\")\n",
    "\n",
    "# Storage for tracking created resources\n",
    "created_services = []\n",
    "created_datasets = []\n",
    "operation_log = []"
   ]
  },
  {
   "cell_type": "markdown",
   "metadata": {},
   "source": [
    "## 3. 🏗️ Utility Functions\n",
    "\n",
    "Let's create helper functions for our bulk operations."
   ]
  },
  {
   "cell_type": "code",
   "execution_count": 5,
   "metadata": {},
   "outputs": [
    {
     "name": "stdout",
     "output_type": "stream",
     "text": [
      "🔧 Utility functions defined successfully\n",
      "📝 Ready for bulk operations\n"
     ]
    }
   ],
   "source": [
    "def log_operation(operation: str, resource_type: str, \n",
    "                  resource_name: str, success: bool, \n",
    "                  details: str = \"\") -> None:\n",
    "    \"\"\"\n",
    "    Log an operation for tracking and debugging.\n",
    "    \n",
    "    Args:\n",
    "        operation: Type of operation (create, delete, verify)\n",
    "        resource_type: Type of resource (service, dataset, organization)\n",
    "        resource_name: Name of the resource\n",
    "        success: Whether the operation was successful\n",
    "        details: Additional details or error messages\n",
    "    \"\"\"\n",
    "    timestamp = time.strftime(\"%H:%M:%S\")\n",
    "    status = \"✅\" if success else \"❌\"\n",
    "    \n",
    "    log_entry = {\n",
    "        \"timestamp\": timestamp,\n",
    "        \"operation\": operation,\n",
    "        \"resource_type\": resource_type,\n",
    "        \"resource_name\": resource_name,\n",
    "        \"success\": success,\n",
    "        \"details\": details\n",
    "    }\n",
    "    \n",
    "    operation_log.append(log_entry)\n",
    "    print(f\"{status} [{timestamp}] {operation.title()} {resource_type}: {resource_name}\")\n",
    "    \n",
    "    if details and not success:\n",
    "        print(f\"   └─ Error: {details}\")\n",
    "\n",
    "\n",
    "def generate_service_data(index: int) -> Dict[str, Any]:\n",
    "    \"\"\"\n",
    "    Generate service data for registration.\n",
    "    \n",
    "    Args:\n",
    "        index: Service index number\n",
    "        \n",
    "    Returns:\n",
    "        Service data dictionary\n",
    "    \"\"\"\n",
    "    service_num = str(index).zfill(3)  # Pad with zeros: 001, 002, etc.\n",
    "    \n",
    "    return {\n",
    "        \"service_name\": f\"{PREFIX}service_{service_num}\",\n",
    "        \"service_title\": f\"{PREFIX.title()}Service {service_num}\",\n",
    "        \"owner_org\": SERVICES_ORG,\n",
    "        \"service_url\": f\"https://api.example.com/service_{service_num}\",\n",
    "        \"service_type\": \"REST API\",\n",
    "        \"notes\": f\"Bulk tutorial test service number {service_num}\",\n",
    "        \"health_check_url\": f\"https://api.example.com/service_{service_num}/health\",\n",
    "        \"documentation_url\": f\"https://docs.example.com/service_{service_num}\"\n",
    "    }\n",
    "\n",
    "\n",
    "def generate_dataset_data(index: int) -> Dict[str, Any]:\n",
    "    \"\"\"\n",
    "    Generate dataset data for registration.\n",
    "    \n",
    "    Args:\n",
    "        index: Dataset index number\n",
    "        \n",
    "    Returns:\n",
    "        Dataset data dictionary\n",
    "    \"\"\"\n",
    "    dataset_num = str(index).zfill(3)  # Pad with zeros: 001, 002, etc.\n",
    "    \n",
    "    return {\n",
    "        \"name\": f\"{PREFIX}dataset_{dataset_num}\",\n",
    "        \"title\": f\"{PREFIX.title()}Dataset {dataset_num}\",\n",
    "        \"owner_org\": DATASETS_ORG,\n",
    "        \"notes\": f\"Bulk tutorial test dataset number {dataset_num}\",\n",
    "        \"tags\": [{\"name\": \"test\"}, {\"name\": \"bulk\"}, {\"name\": \"tutorial\"}],\n",
    "        \"license_id\": \"cc-by\",\n",
    "        \"private\": False\n",
    "    }\n",
    "\n",
    "\n",
    "def print_progress(current: int, total: int, \n",
    "                   operation: str = \"Processing\") -> None:\n",
    "    \"\"\"\n",
    "    Print progress information.\n",
    "    \n",
    "    Args:\n",
    "        current: Current item number\n",
    "        total: Total items to process\n",
    "        operation: Description of the operation\n",
    "    \"\"\"\n",
    "    percentage = (current / total) * 100\n",
    "    bar_length = 30\n",
    "    filled_length = int(bar_length * current // total)\n",
    "    \n",
    "    bar = \"█\" * filled_length + \"-\" * (bar_length - filled_length)\n",
    "    print(f\"\\r{operation}: |{bar}| {current}/{total} ({percentage:.1f}%)\", end=\"\")\n",
    "    \n",
    "    if current == total:\n",
    "        print()  # New line when complete\n",
    "\n",
    "\n",
    "print(\"🔧 Utility functions defined successfully\")\n",
    "print(\"📝 Ready for bulk operations\")"
   ]
  },
  {
   "cell_type": "markdown",
   "metadata": {},
   "source": [
    "## 4. 🏢 Organization Setup\n",
    "\n",
    "Before creating datasets, we need to ensure the organization exists."
   ]
  },
  {
   "cell_type": "code",
   "execution_count": 6,
   "metadata": {},
   "outputs": [
    {
     "name": "stdout",
     "output_type": "stream",
     "text": [
      "🏢 Setting up organization: test_services\n",
      "========================================\n",
      "🔨 Creating organization 'test_services'...\n",
      "✅ Organization created with ID: 504ac9b3-d382-4b37-9fb9-771252316780\n",
      "✅ [15:14:35] Create organization: test_services\n",
      "\n",
      "🎯 Organization setup complete!\n"
     ]
    }
   ],
   "source": [
    "# Check if datasets organization exists, create if needed\n",
    "print(f\"🏢 Setting up organization: {DATASETS_ORG}\")\n",
    "print(\"=\" * 40)\n",
    "\n",
    "try:\n",
    "    # Check existing organizations\n",
    "    existing_orgs = client.list_organizations(server=\"local\")\n",
    "    \n",
    "    if DATASETS_ORG in existing_orgs:\n",
    "        print(f\"✅ Organization '{DATASETS_ORG}' already exists\")\n",
    "        log_operation(\"verify\", \"organization\", DATASETS_ORG, True, \n",
    "                     \"Already exists\")\n",
    "    else:\n",
    "        # Create the organization\n",
    "        print(f\"🔨 Creating organization '{DATASETS_ORG}'...\")\n",
    "        \n",
    "        org_data = {\n",
    "            \"name\": DATASETS_ORG,\n",
    "            \"title\": \"Test Services Organization\",\n",
    "            \"description\": \"Organization for bulk tutorial test datasets\"\n",
    "        }\n",
    "        \n",
    "        result = client.register_organization(org_data, server=\"local\")\n",
    "        print(f\"✅ Organization created with ID: {result.get('id', 'unknown')}\")\n",
    "        log_operation(\"create\", \"organization\", DATASETS_ORG, True, \n",
    "                     f\"ID: {result.get('id', 'unknown')}\")\n",
    "\n",
    "except Exception as e:\n",
    "    print(f\"❌ Failed to setup organization: {e}\")\n",
    "    log_operation(\"create\", \"organization\", DATASETS_ORG, False, str(e))\n",
    "    raise\n",
    "\n",
    "print(\"\\n🎯 Organization setup complete!\")"
   ]
  },
  {
   "cell_type": "markdown",
   "metadata": {},
   "source": [
    "---\n",
    "\n",
    "**🎉 Base Tutorial Structure Complete!**\n",
    "\n",
    "The foundation is ready. Next commits will add:\n",
    "- Bulk service registration\n",
    "- Bulk dataset registration  \n",
    "- Verification and monitoring\n",
    "- Complete cleanup process"
   ]
  }
 ],
 "metadata": {
  "colab": {
   "provenance": []
  },
  "kernelspec": {
   "display_name": "venv",
   "language": "python",
   "name": "python3"
  },
  "language_info": {
   "codemirror_mode": {
    "name": "ipython",
    "version": 3
   },
   "file_extension": ".py",
   "mimetype": "text/x-python",
   "name": "python",
   "nbconvert_exporter": "python",
   "pygments_lexer": "ipython3",
   "version": "3.13.2"
  }
 },
 "nbformat": 4,
 "nbformat_minor": 4
}
